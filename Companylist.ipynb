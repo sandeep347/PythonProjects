{
 "cells": [
  {
   "cell_type": "markdown",
   "id": "e2bf4f0e",
   "metadata": {},
   "source": [
    "The 2014 Inc. 5000- Inc5000 Companylist"
   ]
  },
  {
   "cell_type": "code",
   "execution_count": 20,
   "id": "e6797a1c",
   "metadata": {},
   "outputs": [],
   "source": [
    "import pandas as pd\n",
    "import matplotlib.pyplot as plt\n",
    "import seaborn  as sns"
   ]
  },
  {
   "cell_type": "code",
   "execution_count": 3,
   "id": "f384b352",
   "metadata": {},
   "outputs": [],
   "source": [
    "# Reading the data\n",
    "Incdata=pd.read_csv(\"Company List_2014.csv\")"
   ]
  },
  {
   "cell_type": "code",
   "execution_count": 6,
   "id": "59fd0270",
   "metadata": {},
   "outputs": [
    {
     "data": {
      "text/html": [
       "<div>\n",
       "<style scoped>\n",
       "    .dataframe tbody tr th:only-of-type {\n",
       "        vertical-align: middle;\n",
       "    }\n",
       "\n",
       "    .dataframe tbody tr th {\n",
       "        vertical-align: top;\n",
       "    }\n",
       "\n",
       "    .dataframe thead th {\n",
       "        text-align: right;\n",
       "    }\n",
       "</style>\n",
       "<table border=\"1\" class=\"dataframe\">\n",
       "  <thead>\n",
       "    <tr style=\"text-align: right;\">\n",
       "      <th></th>\n",
       "      <th>_input</th>\n",
       "      <th>_num</th>\n",
       "      <th>_widgetName</th>\n",
       "      <th>_source</th>\n",
       "      <th>_resultNumber</th>\n",
       "      <th>_pageUrl</th>\n",
       "      <th>id</th>\n",
       "      <th>rank</th>\n",
       "      <th>workers</th>\n",
       "      <th>company</th>\n",
       "      <th>url</th>\n",
       "      <th>state_l</th>\n",
       "      <th>state_s</th>\n",
       "      <th>city</th>\n",
       "      <th>metro</th>\n",
       "      <th>growth</th>\n",
       "      <th>revenue</th>\n",
       "      <th>industry</th>\n",
       "      <th>yrs_on_list</th>\n",
       "    </tr>\n",
       "  </thead>\n",
       "  <tbody>\n",
       "    <tr>\n",
       "      <th>0</th>\n",
       "      <td>NaN</td>\n",
       "      <td>1</td>\n",
       "      <td>Inc5000 Company List</td>\n",
       "      <td>Inc5000 Company List</td>\n",
       "      <td>1</td>\n",
       "      <td>http://www.inc.com/inc5000list/json/inc5000_20...</td>\n",
       "      <td>22890</td>\n",
       "      <td>1</td>\n",
       "      <td>227</td>\n",
       "      <td>Fuhu</td>\n",
       "      <td>fuhu</td>\n",
       "      <td>California</td>\n",
       "      <td>CA</td>\n",
       "      <td>El Segundo</td>\n",
       "      <td>Los Angeles</td>\n",
       "      <td>158956.9106</td>\n",
       "      <td>195640000</td>\n",
       "      <td>Consumer Products &amp; Services</td>\n",
       "      <td>2</td>\n",
       "    </tr>\n",
       "    <tr>\n",
       "      <th>1</th>\n",
       "      <td>NaN</td>\n",
       "      <td>2</td>\n",
       "      <td>Inc5000 Company List</td>\n",
       "      <td>Inc5000 Company List</td>\n",
       "      <td>2</td>\n",
       "      <td>http://www.inc.com/inc5000list/json/inc5000_20...</td>\n",
       "      <td>25747</td>\n",
       "      <td>2</td>\n",
       "      <td>191</td>\n",
       "      <td>Quest Nutrition</td>\n",
       "      <td>quest-nutrition</td>\n",
       "      <td>California</td>\n",
       "      <td>CA</td>\n",
       "      <td>El Segundo</td>\n",
       "      <td>Los Angeles</td>\n",
       "      <td>57347.9246</td>\n",
       "      <td>82640563</td>\n",
       "      <td>Food &amp; Beverage</td>\n",
       "      <td>1</td>\n",
       "    </tr>\n",
       "  </tbody>\n",
       "</table>\n",
       "</div>"
      ],
      "text/plain": [
       "   _input  _num           _widgetName               _source  _resultNumber  \\\n",
       "0     NaN     1  Inc5000 Company List  Inc5000 Company List              1   \n",
       "1     NaN     2  Inc5000 Company List  Inc5000 Company List              2   \n",
       "\n",
       "                                            _pageUrl     id  rank  workers  \\\n",
       "0  http://www.inc.com/inc5000list/json/inc5000_20...  22890     1      227   \n",
       "1  http://www.inc.com/inc5000list/json/inc5000_20...  25747     2      191   \n",
       "\n",
       "           company              url     state_l state_s        city  \\\n",
       "0             Fuhu             fuhu  California      CA  El Segundo   \n",
       "1  Quest Nutrition  quest-nutrition  California      CA  El Segundo   \n",
       "\n",
       "         metro       growth    revenue                      industry  \\\n",
       "0  Los Angeles  158956.9106  195640000  Consumer Products & Services   \n",
       "1  Los Angeles   57347.9246   82640563               Food & Beverage   \n",
       "\n",
       "   yrs_on_list  \n",
       "0            2  \n",
       "1            1  "
      ]
     },
     "execution_count": 6,
     "metadata": {},
     "output_type": "execute_result"
    }
   ],
   "source": [
    "Incdata.head(2)"
   ]
  },
  {
   "cell_type": "markdown",
   "id": "8740ad13",
   "metadata": {},
   "source": [
    "1.Top 20 different types of industries in the data"
   ]
  },
  {
   "cell_type": "code",
   "execution_count": 19,
   "id": "149b2959",
   "metadata": {},
   "outputs": [
    {
     "data": {
      "text/plain": [
       "IT Services                     733\n",
       "Advertising & Marketing         453\n",
       "Business Products & Services    435\n",
       "Health                          377\n",
       "Software                        338\n",
       "Financial Services              278\n",
       "Consumer Products & Services    230\n",
       "Manufacturing                   212\n",
       "Government Services             212\n",
       "Retail                          200\n",
       "Human Resources                 199\n",
       "Construction                    198\n",
       "Telecommunications              135\n",
       "Logistics & Transportation      132\n",
       "Food & Beverage                 132\n",
       "Real Estate                     131\n",
       "Energy                          116\n",
       "Education                        78\n",
       "Security                         68\n",
       "Insurance                        67\n",
       "Name: industry, dtype: int64"
      ]
     },
     "execution_count": 19,
     "metadata": {},
     "output_type": "execute_result"
    }
   ],
   "source": [
    "Incdata['industry'].value_counts().head(20)"
   ]
  },
  {
   "cell_type": "markdown",
   "id": "a01087e5",
   "metadata": {},
   "source": [
    "2.Top 20 states which utilizes highest man power "
   ]
  },
  {
   "cell_type": "code",
   "execution_count": 49,
   "id": "a1e3f6a0",
   "metadata": {},
   "outputs": [],
   "source": [
    "data=Incdata.groupby('state_l').sum().workers.reset_index()\n",
    "#data.sort_values('workers',ascending=False)"
   ]
  },
  {
   "cell_type": "code",
   "execution_count": 51,
   "id": "00bfcace",
   "metadata": {},
   "outputs": [
    {
     "data": {
      "text/html": [
       "<div>\n",
       "<style scoped>\n",
       "    .dataframe tbody tr th:only-of-type {\n",
       "        vertical-align: middle;\n",
       "    }\n",
       "\n",
       "    .dataframe tbody tr th {\n",
       "        vertical-align: top;\n",
       "    }\n",
       "\n",
       "    .dataframe thead th {\n",
       "        text-align: right;\n",
       "    }\n",
       "</style>\n",
       "<table border=\"1\" class=\"dataframe\">\n",
       "  <thead>\n",
       "    <tr style=\"text-align: right;\">\n",
       "      <th></th>\n",
       "      <th>state_l</th>\n",
       "      <th>workers</th>\n",
       "    </tr>\n",
       "  </thead>\n",
       "  <tbody>\n",
       "    <tr>\n",
       "      <th>4</th>\n",
       "      <td>California</td>\n",
       "      <td>147025</td>\n",
       "    </tr>\n",
       "    <tr>\n",
       "      <th>44</th>\n",
       "      <td>Texas</td>\n",
       "      <td>100812</td>\n",
       "    </tr>\n",
       "    <tr>\n",
       "      <th>13</th>\n",
       "      <td>Illinois</td>\n",
       "      <td>98148</td>\n",
       "    </tr>\n",
       "    <tr>\n",
       "      <th>32</th>\n",
       "      <td>New York</td>\n",
       "      <td>77441</td>\n",
       "    </tr>\n",
       "    <tr>\n",
       "      <th>22</th>\n",
       "      <td>Michigan</td>\n",
       "      <td>56082</td>\n",
       "    </tr>\n",
       "    <tr>\n",
       "      <th>10</th>\n",
       "      <td>Georgia</td>\n",
       "      <td>47641</td>\n",
       "    </tr>\n",
       "    <tr>\n",
       "      <th>43</th>\n",
       "      <td>Tennessee</td>\n",
       "      <td>45229</td>\n",
       "    </tr>\n",
       "    <tr>\n",
       "      <th>20</th>\n",
       "      <td>Maryland</td>\n",
       "      <td>42672</td>\n",
       "    </tr>\n",
       "    <tr>\n",
       "      <th>9</th>\n",
       "      <td>Florida</td>\n",
       "      <td>42672</td>\n",
       "    </tr>\n",
       "    <tr>\n",
       "      <th>47</th>\n",
       "      <td>Virginia</td>\n",
       "      <td>42355</td>\n",
       "    </tr>\n",
       "    <tr>\n",
       "      <th>21</th>\n",
       "      <td>Massachusetts</td>\n",
       "      <td>27725</td>\n",
       "    </tr>\n",
       "    <tr>\n",
       "      <th>33</th>\n",
       "      <td>North Carolina</td>\n",
       "      <td>27202</td>\n",
       "    </tr>\n",
       "    <tr>\n",
       "      <th>38</th>\n",
       "      <td>Pennsylvania</td>\n",
       "      <td>27079</td>\n",
       "    </tr>\n",
       "    <tr>\n",
       "      <th>5</th>\n",
       "      <td>Colorado</td>\n",
       "      <td>23707</td>\n",
       "    </tr>\n",
       "    <tr>\n",
       "      <th>35</th>\n",
       "      <td>Ohio</td>\n",
       "      <td>23541</td>\n",
       "    </tr>\n",
       "    <tr>\n",
       "      <th>30</th>\n",
       "      <td>New Jersey</td>\n",
       "      <td>22872</td>\n",
       "    </tr>\n",
       "    <tr>\n",
       "      <th>50</th>\n",
       "      <td>Wisconsin</td>\n",
       "      <td>17984</td>\n",
       "    </tr>\n",
       "    <tr>\n",
       "      <th>23</th>\n",
       "      <td>Minnesota</td>\n",
       "      <td>15917</td>\n",
       "    </tr>\n",
       "    <tr>\n",
       "      <th>2</th>\n",
       "      <td>Arizona</td>\n",
       "      <td>15843</td>\n",
       "    </tr>\n",
       "    <tr>\n",
       "      <th>45</th>\n",
       "      <td>Utah</td>\n",
       "      <td>15635</td>\n",
       "    </tr>\n",
       "  </tbody>\n",
       "</table>\n",
       "</div>"
      ],
      "text/plain": [
       "           state_l  workers\n",
       "4       California   147025\n",
       "44           Texas   100812\n",
       "13        Illinois    98148\n",
       "32        New York    77441\n",
       "22        Michigan    56082\n",
       "10         Georgia    47641\n",
       "43       Tennessee    45229\n",
       "20        Maryland    42672\n",
       "9          Florida    42672\n",
       "47        Virginia    42355\n",
       "21   Massachusetts    27725\n",
       "33  North Carolina    27202\n",
       "38    Pennsylvania    27079\n",
       "5         Colorado    23707\n",
       "35            Ohio    23541\n",
       "30      New Jersey    22872\n",
       "50       Wisconsin    17984\n",
       "23       Minnesota    15917\n",
       "2          Arizona    15843\n",
       "45            Utah    15635"
      ]
     },
     "execution_count": 51,
     "metadata": {},
     "output_type": "execute_result"
    }
   ],
   "source": [
    "data.sort_values('workers',ascending=False).head(20)"
   ]
  },
  {
   "cell_type": "markdown",
   "id": "724c2337",
   "metadata": {},
   "source": [
    "3.The ranking is based on growth speed, so creating a growth vs ranking graph to confirm that"
   ]
  },
  {
   "cell_type": "code",
   "execution_count": 8,
   "id": "5cf460ff",
   "metadata": {},
   "outputs": [
    {
     "data": {
      "text/plain": [
       "<AxesSubplot:xlabel='rank'>"
      ]
     },
     "execution_count": 8,
     "metadata": {},
     "output_type": "execute_result"
    },
    {
     "data": {
      "image/png": "[encoded data removed]",
      "text/plain": [
       "<Figure size 432x288 with 1 Axes>"
      ]
     },
     "metadata": {
      "needs_background": "light"
     },
     "output_type": "display_data"
    }
   ],
   "source": [
    "Incdata.plot(x=\"rank\",y=\"growth\")"
   ]
  },
  {
   "cell_type": "code",
   "execution_count": null,
   "id": "fc022c29",
   "metadata": {},
   "outputs": [],
   "source": [
    "# This graph looks bigger the growth higher the ranking which looks right"
   ]
  },
  {
   "cell_type": "markdown",
   "id": "935011d0",
   "metadata": {},
   "source": [
    "4.what is the distribution of years on list across the companies"
   ]
  },
  {
   "cell_type": "code",
   "execution_count": 9,
   "id": "bc95ffb1",
   "metadata": {},
   "outputs": [
    {
     "data": {
      "image/png": "[encoded data removed]",
      "text/plain": [
       "<Figure size 432x288 with 1 Axes>"
      ]
     },
     "metadata": {
      "needs_background": "light"
     },
     "output_type": "display_data"
    }
   ],
   "source": [
    "hist=Incdata.hist(column=\"yrs_on_list\")"
   ]
  },
  {
   "cell_type": "code",
   "execution_count": null,
   "id": "86a0998c",
   "metadata": {},
   "outputs": [],
   "source": [
    "#looks like it is the first year on the list for most companies "
   ]
  },
  {
   "cell_type": "markdown",
   "id": "483c999c",
   "metadata": {},
   "source": [
    "5.Does higher ranking means bigger revenue of the company"
   ]
  },
  {
   "cell_type": "code",
   "execution_count": 10,
   "id": "8fe95c06",
   "metadata": {},
   "outputs": [
    {
     "data": {
      "text/plain": [
       "<AxesSubplot:xlabel='rank', ylabel='revenue'>"
      ]
     },
     "execution_count": 10,
     "metadata": {},
     "output_type": "execute_result"
    },
    {
     "data": {
      "image/png": "[encoded data removed]",
      "text/plain": [
       "<Figure size 432x288 with 1 Axes>"
      ]
     },
     "metadata": {
      "needs_background": "light"
     },
     "output_type": "display_data"
    }
   ],
   "source": [
    "x=Incdata[[\"rank\"]]\n",
    "y=Incdata[[\"revenue\"]]\n",
    "Incdata.plot(kind=\"scatter\",x=\"rank\",y=\"revenue\")"
   ]
  },
  {
   "cell_type": "code",
   "execution_count": null,
   "id": "18b75f18",
   "metadata": {},
   "outputs": [],
   "source": [
    "#Most companies has small revenues and ranking does not reflect the size of revenue"
   ]
  },
  {
   "cell_type": "markdown",
   "id": "98100754",
   "metadata": {},
   "source": [
    "6.Does companies with more workers rank higher"
   ]
  },
  {
   "cell_type": "code",
   "execution_count": 12,
   "id": "e8dcd6af",
   "metadata": {},
   "outputs": [
    {
     "data": {
      "text/plain": [
       "<AxesSubplot:xlabel='rank', ylabel='revenue'>"
      ]
     },
     "execution_count": 12,
     "metadata": {},
     "output_type": "execute_result"
    },
    {
     "data": {
      "image/png": "[encoded data removed]",
      "text/plain": [
       "<Figure size 432x288 with 1 Axes>"
      ]
     },
     "metadata": {
      "needs_background": "light"
     },
     "output_type": "display_data"
    }
   ],
   "source": [
    "size=Incdata[['workers']]\n",
    "Incdata[['rank','revenue']].plot(kind='scatter',x='rank',y='revenue', s=size, alpha=.1 )\n"
   ]
  },
  {
   "cell_type": "code",
   "execution_count": null,
   "id": "32081f04",
   "metadata": {},
   "outputs": [],
   "source": [
    "#result: No, in fact the more workers a company has the slower the growth"
   ]
  },
  {
   "cell_type": "markdown",
   "id": "be3e12d4",
   "metadata": {},
   "source": [
    "7.Relationship of no. of workers to revenue"
   ]
  },
  {
   "cell_type": "code",
   "execution_count": 13,
   "id": "8f00cf3b",
   "metadata": {},
   "outputs": [
    {
     "data": {
      "text/plain": [
       "<AxesSubplot:xlabel='workers', ylabel='revenue'>"
      ]
     },
     "execution_count": 13,
     "metadata": {},
     "output_type": "execute_result"
    },
    {
     "data": {
      "image/png": "[encoded data removed]",
      "text/plain": [
       "<Figure size 432x288 with 1 Axes>"
      ]
     },
     "metadata": {
      "needs_background": "light"
     },
     "output_type": "display_data"
    }
   ],
   "source": [
    "Incdata[['workers','revenue']].plot(kind='scatter',x='workers',y='revenue', s=50, alpha=.2 )"
   ]
  },
  {
   "cell_type": "markdown",
   "id": "1f32987d",
   "metadata": {},
   "source": [
    "8.Show the proportion of the companies listed that are of the IT Services industry as a pie chart"
   ]
  },
  {
   "cell_type": "code",
   "execution_count": 55,
   "id": "7f8eacc9",
   "metadata": {},
   "outputs": [
    {
     "data": {
      "image/png": "[encoded data removed]",
      "text/plain": [
       "<Figure size 432x288 with 1 Axes>"
      ]
     },
     "metadata": {},
     "output_type": "display_data"
    }
   ],
   "source": [
    "ITServices = Incdata.loc[Incdata['industry']=='IT Services'].count()[1]\n",
    "Non_IT=Incdata.loc[Incdata['industry']!='Non-IT'].count()[1]\n",
    "\n",
    "colors =['LightSalmon',\"PaleTurquoise\"]\n",
    "labels = 'IT Services', 'Non-IT'\n",
    "sizes = [ITServices, Non_IT ]\n",
    "explode = (0, 0.1) \n",
    "fig1, ax1 = plt.subplots()\n",
    "ax1.pie(sizes, explode=explode, labels=labels, autopct='%1.1f%%',\n",
    "        colors=colors, shadow=False, startangle=90)\n",
    "ax1.axis('equal')  \n",
    "\n",
    "plt.show()"
   ]
  },
  {
   "cell_type": "code",
   "execution_count": null,
   "id": "20c6a615",
   "metadata": {},
   "outputs": [],
   "source": []
  }
 ],
 "metadata": {
  "kernelspec": {
   "display_name": "Python 3",
   "language": "python",
   "name": "python3"
  },
  "language_info": {
   "codemirror_mode": {
    "name": "ipython",
    "version": 3
   },
   "file_extension": ".py",
   "mimetype": "text/x-python",
   "name": "python",
   "nbconvert_exporter": "python",
   "pygments_lexer": "ipython3",
   "version": "3.8.8"
  }
 },
 "nbformat": 4,
 "nbformat_minor": 5
}
